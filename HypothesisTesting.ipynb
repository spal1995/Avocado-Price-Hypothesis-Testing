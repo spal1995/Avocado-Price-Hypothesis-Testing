{
 "cells": [
  {
   "cell_type": "markdown",
   "id": "32571b4f-cda5-490e-9353-cb68e1a06de0",
   "metadata": {},
   "source": [
    "## Hypothesis Testing on Avocado Prices"
   ]
  },
  {
   "cell_type": "markdown",
   "id": "c66355a2-f2dd-46ee-b6fe-c57bb93a7e74",
   "metadata": {},
   "source": [
    "Context:\n",
    "It is a well known fact that Millenials LOVE Avocado Toast. It's also a well known fact that all Millenials live in their parents basements.\n",
    "\n",
    "Clearly, they aren't buying home because they are buying too much Avocado Toast!\n",
    "\n",
    "But maybe there's hope… if a Millenial could find a city with cheap avocados, they could live out the Millenial American Dream.\n",
    "Let's try to find it out by Hypothesis Testing, if they can !!!!"
   ]
  },
  {
   "cell_type": "markdown",
   "id": "855394b6-b27d-4e8c-bbf0-e9aaee1dec7e",
   "metadata": {},
   "source": [
    "### Import libraries and dataset"
   ]
  },
  {
   "cell_type": "code",
   "execution_count": 38,
   "id": "8e344ed6-ea11-46e5-9496-a2631bbc7b2d",
   "metadata": {},
   "outputs": [],
   "source": [
    "import numpy as np\n",
    "from scipy.stats import t, norm, chi2, ttest_rel, ttest_ind, f, binomtest\n",
    "import scipy.stats as stats\n",
    "import pandas as pd\n",
    "import matplotlib.pyplot as plt"
   ]
  },
  {
   "cell_type": "code",
   "execution_count": 39,
   "id": "27eedb01-b12b-4ebb-84eb-90d299b12cbf",
   "metadata": {},
   "outputs": [],
   "source": [
    "avocado=pd.read_csv('data/avocado.csv')"
   ]
  },
  {
   "cell_type": "code",
   "execution_count": 40,
   "id": "ec02f34f-3f29-46c0-8b5c-d43a2be38e82",
   "metadata": {},
   "outputs": [
    {
     "data": {
      "text/html": [
       "<div>\n",
       "<style scoped>\n",
       "    .dataframe tbody tr th:only-of-type {\n",
       "        vertical-align: middle;\n",
       "    }\n",
       "\n",
       "    .dataframe tbody tr th {\n",
       "        vertical-align: top;\n",
       "    }\n",
       "\n",
       "    .dataframe thead th {\n",
       "        text-align: right;\n",
       "    }\n",
       "</style>\n",
       "<table border=\"1\" class=\"dataframe\">\n",
       "  <thead>\n",
       "    <tr style=\"text-align: right;\">\n",
       "      <th></th>\n",
       "      <th>Unnamed: 0</th>\n",
       "      <th>Date</th>\n",
       "      <th>AveragePrice</th>\n",
       "      <th>Total Volume</th>\n",
       "      <th>4046</th>\n",
       "      <th>4225</th>\n",
       "      <th>4770</th>\n",
       "      <th>Total Bags</th>\n",
       "      <th>Small Bags</th>\n",
       "      <th>Large Bags</th>\n",
       "      <th>XLarge Bags</th>\n",
       "      <th>type</th>\n",
       "      <th>year</th>\n",
       "      <th>region</th>\n",
       "    </tr>\n",
       "  </thead>\n",
       "  <tbody>\n",
       "    <tr>\n",
       "      <th>0</th>\n",
       "      <td>0</td>\n",
       "      <td>2015-12-27</td>\n",
       "      <td>1.33</td>\n",
       "      <td>64236.62</td>\n",
       "      <td>1036.74</td>\n",
       "      <td>54454.85</td>\n",
       "      <td>48.16</td>\n",
       "      <td>8696.87</td>\n",
       "      <td>8603.62</td>\n",
       "      <td>93.25</td>\n",
       "      <td>0.0</td>\n",
       "      <td>conventional</td>\n",
       "      <td>2015</td>\n",
       "      <td>Albany</td>\n",
       "    </tr>\n",
       "    <tr>\n",
       "      <th>1</th>\n",
       "      <td>1</td>\n",
       "      <td>2015-12-20</td>\n",
       "      <td>1.35</td>\n",
       "      <td>54876.98</td>\n",
       "      <td>674.28</td>\n",
       "      <td>44638.81</td>\n",
       "      <td>58.33</td>\n",
       "      <td>9505.56</td>\n",
       "      <td>9408.07</td>\n",
       "      <td>97.49</td>\n",
       "      <td>0.0</td>\n",
       "      <td>conventional</td>\n",
       "      <td>2015</td>\n",
       "      <td>Albany</td>\n",
       "    </tr>\n",
       "    <tr>\n",
       "      <th>2</th>\n",
       "      <td>2</td>\n",
       "      <td>2015-12-13</td>\n",
       "      <td>0.93</td>\n",
       "      <td>118220.22</td>\n",
       "      <td>794.70</td>\n",
       "      <td>109149.67</td>\n",
       "      <td>130.50</td>\n",
       "      <td>8145.35</td>\n",
       "      <td>8042.21</td>\n",
       "      <td>103.14</td>\n",
       "      <td>0.0</td>\n",
       "      <td>conventional</td>\n",
       "      <td>2015</td>\n",
       "      <td>Albany</td>\n",
       "    </tr>\n",
       "    <tr>\n",
       "      <th>3</th>\n",
       "      <td>3</td>\n",
       "      <td>2015-12-06</td>\n",
       "      <td>1.08</td>\n",
       "      <td>78992.15</td>\n",
       "      <td>1132.00</td>\n",
       "      <td>71976.41</td>\n",
       "      <td>72.58</td>\n",
       "      <td>5811.16</td>\n",
       "      <td>5677.40</td>\n",
       "      <td>133.76</td>\n",
       "      <td>0.0</td>\n",
       "      <td>conventional</td>\n",
       "      <td>2015</td>\n",
       "      <td>Albany</td>\n",
       "    </tr>\n",
       "    <tr>\n",
       "      <th>4</th>\n",
       "      <td>4</td>\n",
       "      <td>2015-11-29</td>\n",
       "      <td>1.28</td>\n",
       "      <td>51039.60</td>\n",
       "      <td>941.48</td>\n",
       "      <td>43838.39</td>\n",
       "      <td>75.78</td>\n",
       "      <td>6183.95</td>\n",
       "      <td>5986.26</td>\n",
       "      <td>197.69</td>\n",
       "      <td>0.0</td>\n",
       "      <td>conventional</td>\n",
       "      <td>2015</td>\n",
       "      <td>Albany</td>\n",
       "    </tr>\n",
       "  </tbody>\n",
       "</table>\n",
       "</div>"
      ],
      "text/plain": [
       "   Unnamed: 0        Date  AveragePrice  Total Volume     4046       4225  \\\n",
       "0           0  2015-12-27          1.33      64236.62  1036.74   54454.85   \n",
       "1           1  2015-12-20          1.35      54876.98   674.28   44638.81   \n",
       "2           2  2015-12-13          0.93     118220.22   794.70  109149.67   \n",
       "3           3  2015-12-06          1.08      78992.15  1132.00   71976.41   \n",
       "4           4  2015-11-29          1.28      51039.60   941.48   43838.39   \n",
       "\n",
       "     4770  Total Bags  Small Bags  Large Bags  XLarge Bags          type  \\\n",
       "0   48.16     8696.87     8603.62       93.25          0.0  conventional   \n",
       "1   58.33     9505.56     9408.07       97.49          0.0  conventional   \n",
       "2  130.50     8145.35     8042.21      103.14          0.0  conventional   \n",
       "3   72.58     5811.16     5677.40      133.76          0.0  conventional   \n",
       "4   75.78     6183.95     5986.26      197.69          0.0  conventional   \n",
       "\n",
       "   year  region  \n",
       "0  2015  Albany  \n",
       "1  2015  Albany  \n",
       "2  2015  Albany  \n",
       "3  2015  Albany  \n",
       "4  2015  Albany  "
      ]
     },
     "execution_count": 40,
     "metadata": {},
     "output_type": "execute_result"
    }
   ],
   "source": [
    "avocado.head()"
   ]
  },
  {
   "cell_type": "code",
   "execution_count": 41,
   "id": "c76c130b-97bd-4526-a8de-c8fc2075de8d",
   "metadata": {},
   "outputs": [],
   "source": [
    "avocado.columns = avocado.columns.str.replace(' ', '_').str.replace('[^A-Za-z0-9_]', '', regex=True)"
   ]
  },
  {
   "cell_type": "code",
   "execution_count": 42,
   "id": "9c8e15c4-f82a-4552-8e43-eafb7e188b20",
   "metadata": {},
   "outputs": [
    {
     "data": {
      "text/plain": [
       "Unnamed_0       0\n",
       "Date            0\n",
       "AveragePrice    0\n",
       "Total_Volume    0\n",
       "4046            0\n",
       "4225            0\n",
       "4770            0\n",
       "Total_Bags      0\n",
       "Small_Bags      0\n",
       "Large_Bags      0\n",
       "XLarge_Bags     0\n",
       "type            0\n",
       "year            0\n",
       "region          0\n",
       "dtype: int64"
      ]
     },
     "execution_count": 42,
     "metadata": {},
     "output_type": "execute_result"
    }
   ],
   "source": [
    "avocado.isnull().sum()"
   ]
  },
  {
   "cell_type": "markdown",
   "id": "3f044d97-ba8b-4322-b3bb-46c868467621",
   "metadata": {},
   "source": [
    " ### T tests on one sample :"
   ]
  },
  {
   "cell_type": "markdown",
   "id": "259eb5f3-8179-4f62-8d18-a8bad8cff5d1",
   "metadata": {},
   "source": [
    "### Q: *\"Is average price of an avocado is equal to 1.5 $?\"*\n",
    "\n",
    "#### Null Hypothesis (H₀)\n",
    "\n",
    "    H_0: mean of Average_price = 1.5$\n",
    "\n",
    "#### Alternative Hypothesis (H₁)\n",
    "\n",
    "    H_1: mean of Average_price != 1.5$\n",
    "---"
   ]
  },
  {
   "cell_type": "code",
   "execution_count": 43,
   "id": "f987b57d-d54b-4bd3-a998-9f2b7e7dc605",
   "metadata": {},
   "outputs": [
    {
     "name": "stdout",
     "output_type": "stream",
     "text": [
      "Data set composed of n = 18249 values\n",
      "Sample mean = 1.41, Sample std = 0.40\n"
     ]
    },
    {
     "name": "stderr",
     "output_type": "stream",
     "text": [
      "/var/folders/dx/p_yf86jj0l337t_4zdrmp1f80000gn/T/ipykernel_62475/2764341297.py:11: FutureWarning: The default value of numeric_only in DataFrame.mean is deprecated. In a future version, it will default to False. In addition, specifying 'numeric_only=None' is deprecated. Select only valid columns or specify the value of numeric_only to silence this warning.\n",
      "  tmp = avocado.mean()\n",
      "/var/folders/dx/p_yf86jj0l337t_4zdrmp1f80000gn/T/ipykernel_62475/2764341297.py:15: FutureWarning: The default value of numeric_only in DataFrame.std is deprecated. In a future version, it will default to False. In addition, specifying 'numeric_only=None' is deprecated. Select only valid columns or specify the value of numeric_only to silence this warning.\n",
      "  tmp = avocado.std(ddof=1)\n"
     ]
    }
   ],
   "source": [
    "# Null hypothesis H0: Avg_Price = 1.5\n",
    "mu0 = 1.5\n",
    "\n",
    "# Level of significance\n",
    "a = 0.05\n",
    "\n",
    "# Number of values\n",
    "n = len(avocado)\n",
    "\n",
    "# Sample mean\n",
    "tmp = avocado.mean()\n",
    "xbar = tmp['AveragePrice']\n",
    "\n",
    "# Sample std\n",
    "tmp = avocado.std(ddof=1)\n",
    "Sx = tmp['AveragePrice']\n",
    "\n",
    "print(f'Data set composed of n = {n} values')\n",
    "print(f'Sample mean = {xbar:.2f}, Sample std = {Sx:.2f}')"
   ]
  },
  {
   "cell_type": "code",
   "execution_count": 44,
   "id": "0a325d31-a04f-4d6c-9f21-4438bb84fff4",
   "metadata": {},
   "outputs": [],
   "source": [
    "# Compute value of Test Statistoc (TS)\n",
    "tbar = (xbar - mu0) / (Sx/np.sqrt(n))\n",
    "\n",
    "# Compute p-value = 2*P(T>|tbar|)\n",
    "pvalue = 2*(1 - t.cdf(np.abs(tbar), df=n-1))\n"
   ]
  },
  {
   "cell_type": "code",
   "execution_count": 45,
   "id": "0cfb9270-00c4-4dc8-8c8f-3c2424759c1b",
   "metadata": {},
   "outputs": [
    {
     "name": "stdout",
     "output_type": "stream",
     "text": [
      " TS value     T = -31.542\n",
      "        p-value = 0.000000000\n",
      "sig. lev. alpha = 0.050\n"
     ]
    }
   ],
   "source": [
    "# Print results\n",
    "print(f' TS value     T = {tbar:.3f}')\n",
    "print(f'        p-value = {pvalue:.9f}')\n",
    "print(f'sig. lev. alpha = {a:.3f}')"
   ]
  },
  {
   "cell_type": "markdown",
   "id": "5f396c84-5360-4a8c-9793-3f15a6f0227f",
   "metadata": {},
   "source": [
    "### Hence, we reject the null hypothesis that Average price is 1.5. Average price is not 1.5"
   ]
  },
  {
   "cell_type": "markdown",
   "id": "d36c8a9e-48af-445c-aa09-7b72ee8a25a6",
   "metadata": {},
   "source": [
    "#### Q: *\"Is average price equal to 1.5 euro?\"*\n",
    "#### A: *\"No, at level of significance $\\alpha = 0.05$ \"*\n",
    "---"
   ]
  },
  {
   "cell_type": "markdown",
   "id": "f9d10f0e-380a-4850-bf1d-94664a2a4260",
   "metadata": {},
   "source": [
    "### Q: *\"Is average price of HartfordSpringfield region different from that of Houston?\"*\n",
    "---"
   ]
  },
  {
   "cell_type": "markdown",
   "id": "5c5c33dc-09fc-4a81-9176-93b80835e42d",
   "metadata": {
    "tags": []
   },
   "source": [
    "### Null Hypothesis (H₀)\n",
    "\n",
    "    H_0: Avg_Price {HartfordSpringfield} = Avg_Price {Houston}\n",
    "\n",
    "### Alternative Hypothesis (H₁)\n",
    "\n",
    "    H_1: Avg_Price {HartfordSpringfield} != Avg_Price {Houston}\n"
   ]
  },
  {
   "cell_type": "code",
   "execution_count": 46,
   "id": "ddfd8de7-f565-4a8c-a762-dea0761e50a0",
   "metadata": {},
   "outputs": [
    {
     "data": {
      "text/plain": [
       "(count    338.000000\n",
       " mean       1.818639\n",
       " std        0.468989\n",
       " min        0.860000\n",
       " 25%        1.390000\n",
       " 50%        1.800000\n",
       " 75%        2.270000\n",
       " max        2.680000\n",
       " Name: AveragePrice, dtype: float64,\n",
       " count    338.000000\n",
       " mean       1.047929\n",
       " std        0.302155\n",
       " min        0.510000\n",
       " 25%        0.790000\n",
       " 50%        0.980000\n",
       " 75%        1.260000\n",
       " max        1.920000\n",
       " Name: AveragePrice, dtype: float64)"
      ]
     },
     "execution_count": 46,
     "metadata": {},
     "output_type": "execute_result"
    }
   ],
   "source": [
    "# Filter data for HartfordSpringfield and Houston regions\n",
    "hartford_springfield = avocado[avocado['region'] == 'HartfordSpringfield']['AveragePrice']\n",
    "houston = avocado[avocado['region'] == 'Houston']['AveragePrice']\n",
    "\n",
    "# Display basic statistics\n",
    "hartford_springfield.describe(), houston.describe()\n"
   ]
  },
  {
   "cell_type": "code",
   "execution_count": 47,
   "id": "54ef42f2-1db4-430b-9e96-932f629fa387",
   "metadata": {},
   "outputs": [],
   "source": [
    "# Level of significance\n",
    "a = 0.05\n",
    "\n",
    "xbar = hartford_springfield.mean()\n",
    "Sx = hartford_springfield.std()\n",
    "m=len(hartford_springfield)\n",
    "\n",
    "ybar = houston.mean()\n",
    "Sy = houston.std()\n",
    "n=len(houston)"
   ]
  },
  {
   "cell_type": "code",
   "execution_count": 48,
   "id": "aff8cb86-d350-4fc4-89fe-9615f02655d7",
   "metadata": {},
   "outputs": [
    {
     "name": "stdout",
     "output_type": "stream",
     "text": [
      "Data set composed of m = 338 hartford_springfield and  n = 338 houston\n",
      "hartford_springfield: Sample mean = 1.82, Sample std = 0.47\n",
      "houston: Sample mean = 1.05, Sample std = 0.30\n"
     ]
    }
   ],
   "source": [
    "print(f'Data set composed of m = {m} hartford_springfield and  n = {n} houston')\n",
    "print(f'hartford_springfield: Sample mean = {xbar:.2f}, Sample std = {Sx:.2f}')\n",
    "print(f'houston: Sample mean = {ybar:.2f}, Sample std = {Sy:.2f}')\n",
    "\n",
    "# pooled sample var\n",
    "Sp2 = ((n-1)*Sx**2 + (m-1)*Sy**2) / (n+m-2)\n",
    "\n",
    "# pooled sample std\n",
    "Sp = np.sqrt(Sp2)"
   ]
  },
  {
   "cell_type": "markdown",
   "id": "174c1ab4-721c-4e0d-a09b-901f8c2239a9",
   "metadata": {},
   "source": [
    "#### Standard deviation differs in our case, but we can assume it not very significant and proceed"
   ]
  },
  {
   "cell_type": "code",
   "execution_count": 49,
   "id": "1741c9b7-2865-4029-b567-a73363141cd0",
   "metadata": {},
   "outputs": [],
   "source": [
    "# Compute value of Test Statistoc (TS)\n",
    "tbar2 = (xbar - ybar) / (Sp*np.sqrt( 1/n + 1/m))\n",
    "\n",
    "# Compute p-value = 2*P(T>|tbar|)\n",
    "pvalue2 = 2*(1 - t.cdf(np.abs(tbar2), df=m+n-2))"
   ]
  },
  {
   "cell_type": "code",
   "execution_count": 50,
   "id": "26f2c0d8-c2db-4e45-b443-3be461f4019b",
   "metadata": {},
   "outputs": [
    {
     "name": "stdout",
     "output_type": "stream",
     "text": [
      " TS value     T = 25.398\n",
      "        p-value = 0.000\n",
      "sig. lev. alpha = 0.050\n"
     ]
    }
   ],
   "source": [
    "# Print results\n",
    "print(f' TS value     T = {tbar2:.3f}')\n",
    "print(f'        p-value = {pvalue2:.3f}')\n",
    "print(f'sig. lev. alpha = {a:.3f}')\n"
   ]
  },
  {
   "cell_type": "markdown",
   "id": "c8e17a6e-2133-4fbb-8106-a987f9dd8dd5",
   "metadata": {},
   "source": [
    "#### Hence, we reject the hypothesis that price of both places are same at level of significance alpha = 0.05"
   ]
  },
  {
   "cell_type": "markdown",
   "id": "8b34378b-8811-45b7-8a38-e4f849b79939",
   "metadata": {},
   "source": [
    "#### Since, we have seen in our EDA that the price of Avocado is less in Houstan and here we found it's significant also. Maybe Houstan's a good choice !!!!"
   ]
  },
  {
   "cell_type": "markdown",
   "id": "9b633dc6-9149-4f1e-b187-cdd9a9034fc3",
   "metadata": {},
   "source": [
    "### Avocado Prices Analysis\n",
    "\n",
    "In this analysis, we will determine if the average price of avocados in the year 2017 is significantly different from that in the year 2016.Since they say 2017 was the Avocadopocalypse.\n",
    "\n",
    "Assumption: Average price of Avocado in 2016 and 2017 are dependent\n",
    "\n",
    "#### Null Hypothesis (H₀)\n",
    "\n",
    "    H_0: Average_price{2017} = Average_price{2016}\n",
    "\n",
    "#### Alternative Hypothesis (H₁)\n",
    "\n",
    "    H_1: Average_price{2017} != Average_price{2016}\n",
    "\n"
   ]
  },
  {
   "cell_type": "code",
   "execution_count": 51,
   "id": "401caa47-fbd8-492e-bce6-a16c1dfa8a70",
   "metadata": {},
   "outputs": [
    {
     "name": "stdout",
     "output_type": "stream",
     "text": [
      "T-statistic: 26.573401661265287\n",
      "P-value: 1.1690439443978623e-146\n",
      "Reject the null hypothesis. There is a significant difference in average prices between 2017 and 2016.\n"
     ]
    }
   ],
   "source": [
    "# Filter data for the years 2017 and 2015\n",
    "prices_2017 = avocado[avocado['year'] == 2017]['AveragePrice']\n",
    "prices_2016 = avocado[avocado['year'] == 2016]['AveragePrice']\n",
    "\n",
    "# Ensure both series are of the same length by dropping any extra data\n",
    "min_length = min(len(prices_2017), len(prices_2016))\n",
    "prices_2017 = prices_2017.iloc[:min_length]\n",
    "prices_2016 = prices_2016.iloc[:min_length]\n",
    "\n",
    "# Perform the paired t-test\n",
    "t_stat, p_value = ttest_rel(prices_2017, prices_2016)\n",
    "\n",
    "# Print the results\n",
    "print(f\"T-statistic: {t_stat}\")\n",
    "print(f\"P-value: {p_value}\")\n",
    "\n",
    "# Interpret the results\n",
    "if p_value < 0.05:\n",
    "    print(\"Reject the null hypothesis. There is a significant difference in average prices between 2017 and 2016.\")\n",
    "else:\n",
    "    print(\"Do not reject the null hypothesis. There is no significant difference in average prices between 2017 and 2016.\")"
   ]
  },
  {
   "cell_type": "code",
   "execution_count": 52,
   "id": "3d4670a1-9994-4ac0-81aa-17baf939247f",
   "metadata": {},
   "outputs": [
    {
     "data": {
      "image/png": "[encoded data removed]",
      "text/plain": [
       "<Figure size 1000x600 with 1 Axes>"
      ]
     },
     "metadata": {},
     "output_type": "display_data"
    },
    {
     "data": {
      "text/plain": [
       "year\n",
       "2015    1.375590\n",
       "2016    1.338640\n",
       "2017    1.515128\n",
       "2018    1.347531\n",
       "Name: AveragePrice, dtype: float64"
      ]
     },
     "execution_count": 52,
     "metadata": {},
     "output_type": "execute_result"
    }
   ],
   "source": [
    "yearly_volume = avocado.groupby('year')['AveragePrice'].mean()\n",
    "# Plot the total volume of avocados sold each year\n",
    "plt.figure(figsize=(10, 6))\n",
    "yearly_volume.plot(kind='bar')\n",
    "plt.title('Average Price')\n",
    "plt.xlabel('Year')\n",
    "plt.ylabel('Total Volume')\n",
    "plt.show()\n",
    "\n",
    "# Display the yearly volume data\n",
    "yearly_volume"
   ]
  },
  {
   "cell_type": "markdown",
   "id": "b5852076-a32b-4f68-bc17-cb8adc0ff48b",
   "metadata": {},
   "source": [
    "#### Our graph also shows that in year 2017, the price of avocado was significantly higher than 2016. It was indeed Avocadopocalypse !!"
   ]
  },
  {
   "cell_type": "markdown",
   "id": "764c875a-e55f-45c0-aa01-961954a8fe2d",
   "metadata": {},
   "source": [
    "### Test on variance: 1 sample "
   ]
  },
  {
   "cell_type": "markdown",
   "id": "581548ff-98f7-4264-a66b-ec129dee3e71",
   "metadata": {},
   "source": [
    "### Q : We will check if the variance of average price was greater than 0.1^2$ in 2017\n",
    "\n",
    "### Hypotheses:\n",
    "\n",
    "#### Null Hypothesis (H₀)\n",
    "\n",
    "    H_0: Average_price{2017} <= 0.1^2$\n",
    "\n",
    "#### Alternative Hypothesis (H₁)\n",
    "\n",
    "    H_1: Average_price{2017} > 0.1^2$\n"
   ]
  },
  {
   "cell_type": "code",
   "execution_count": 53,
   "id": "8a9dea1b-e9d7-4401-8e20-cb43b3dad79a",
   "metadata": {},
   "outputs": [],
   "source": [
    "# Filter data for the year 2017\n",
    "prices_2017 = avocado[avocado['year'] == 2017]['AveragePrice']"
   ]
  },
  {
   "cell_type": "code",
   "execution_count": 54,
   "id": "b31ccd92-6184-40ed-bb8a-414158331c13",
   "metadata": {},
   "outputs": [
    {
     "name": "stdout",
     "output_type": "stream",
     "text": [
      "Sample variance of avocado prices in 2017: 0.1874072988757621\n",
      "Number of observations in 2017: 5722\n"
     ]
    }
   ],
   "source": [
    "# Calculate the sample variance\n",
    "sample_variance_2017 = prices_2017.var(ddof=1)\n",
    "n_2017 = len(prices_2017)\n",
    "print(f'Sample variance of avocado prices in 2017: {sample_variance_2017}')\n",
    "print(f'Number of observations in 2017: {n_2017}')"
   ]
  },
  {
   "cell_type": "code",
   "execution_count": 55,
   "id": "7ed16521-5feb-4785-835f-a66aaa2607b1",
   "metadata": {},
   "outputs": [
    {
     "name": "stdout",
     "output_type": "stream",
     "text": [
      "Chi-square statistic: 10721.57156868235\n",
      "P-value: 0.0\n",
      "Reject the null hypothesis. The variance of avocado prices in 2017 is significantly different from the hypothesized variance.\n"
     ]
    }
   ],
   "source": [
    "# Null hypothesis H0: sigma2 <= 0.1  H1: sigma2 > 0.1\n",
    "hypothesized_variance = 0.1\n",
    "\n",
    "# Compute value of Test Statistic (TS)\n",
    "c = (n_2017 - 1) * sample_variance_2017 / hypothesized_variance\n",
    "\n",
    "# Compute p-value = P(chi2>c) with n-1 degrees of freedom\n",
    "p_value = 1 - chi2.cdf(c, df=n_2017-1)\n",
    "\n",
    "# Level of significance\n",
    "alpha = 0.05\n",
    "\n",
    "print(f'Chi-square statistic: {c}')\n",
    "print(f'P-value: {p_value}')\n",
    "\n",
    "# Interpret the results\n",
    "if p_value < alpha:\n",
    "    print(\"Reject the null hypothesis. The variance of avocado prices in 2017 is significantly different from the hypothesized variance.\")\n",
    "else:\n",
    "    print(\"Do not reject the null hypothesis. The variance of avocado prices in 2017 is not significantly different from the hypothesized variance.\")\n"
   ]
  },
  {
   "cell_type": "markdown",
   "id": "ab557f2e-83b2-4b98-8b2a-9f2614a4d250",
   "metadata": {},
   "source": [
    "### Q : We will check if the variance of average price was greater than 0.1^2$ in 2017\n",
    "### A:  Yes, the average price varied more than 0.1^2& in 2017"
   ]
  },
  {
   "cell_type": "markdown",
   "id": "a95b6dc4-f61c-419e-a3ff-5ef76e4c21ba",
   "metadata": {},
   "source": [
    "## Two-Sample Variance Test (F-Test)\n",
    "\n",
    "We will perform a two-sample test to compare the variances of avocado prices between conventional and organic avocados in 2017.\n",
    "\n",
    "#### Null Hypothesis (H₀)\n",
    "\n",
    "    H_0: Variance of Average_price{Conventional} = Variance of Average_price{Organic}\n",
    "\n",
    "#### Alternative Hypothesis (H₁)\n",
    "\n",
    "    H_0: Variance of Average_price{Conventional} != Variance of Average_price{Organic}"
   ]
  },
  {
   "cell_type": "code",
   "execution_count": 56,
   "id": "7f8604d3-b3d7-4267-9464-860aeb2c4e5c",
   "metadata": {},
   "outputs": [
    {
     "name": "stdout",
     "output_type": "stream",
     "text": [
      "Conventional Avocado Prices in 2017:\n",
      "count    2862.000000\n",
      "mean        1.294888\n",
      "std         0.302354\n",
      "min         0.460000\n",
      "25%         1.070000\n",
      "50%         1.300000\n",
      "75%         1.520000\n",
      "max         2.220000\n",
      "Name: AveragePrice, dtype: float64\n",
      "\n",
      "Organic Avocado Prices in 2017:\n",
      "count    2860.000000\n",
      "mean        1.735521\n",
      "std         0.431721\n",
      "min         0.440000\n",
      "25%         1.460000\n",
      "50%         1.720000\n",
      "75%         2.000000\n",
      "max         3.170000\n",
      "Name: AveragePrice, dtype: float64\n"
     ]
    }
   ],
   "source": [
    "# Filter data for the year 2017\n",
    "avocado_2017 = avocado[avocado['year'] == 2017]\n",
    "\n",
    "# Separate data for conventional and organic avocados\n",
    "conventional_prices_2017 = avocado_2017[avocado_2017['type'] == 'conventional']['AveragePrice']\n",
    "organic_prices_2017 = avocado_2017[avocado_2017['type'] == 'organic']['AveragePrice']\n",
    "\n",
    "# Display basic statistics\n",
    "print(\"Conventional Avocado Prices in 2017:\")\n",
    "print(conventional_prices_2017.describe())\n",
    "print(\"\\nOrganic Avocado Prices in 2017:\")\n",
    "print(organic_prices_2017.describe())\n"
   ]
  },
  {
   "cell_type": "code",
   "execution_count": 57,
   "id": "a67b35e7-f2e9-4271-b749-1aa363fa15c1",
   "metadata": {},
   "outputs": [
    {
     "name": "stdout",
     "output_type": "stream",
     "text": [
      "Conventional: Sample variance = 0.0914\n",
      "Organic: Sample variance = 0.1864\n",
      "F-statistic: 0.4904830607067347\n",
      "P-value: 2.8527134706065737e-79\n",
      "Reject the null hypothesis. There is a significant difference in variances between conventional and organic avocados in 2017.\n"
     ]
    }
   ],
   "source": [
    "# Calculate the sample variances\n",
    "var_conventional = conventional_prices_2017.var(ddof=1)\n",
    "var_organic = organic_prices_2017.var(ddof=1)\n",
    "\n",
    "# Number of values\n",
    "n_conventional = len(conventional_prices_2017)\n",
    "n_organic = len(organic_prices_2017)\n",
    "\n",
    "print(f'Conventional: Sample variance = {var_conventional:.4f}')\n",
    "print(f'Organic: Sample variance = {var_organic:.4f}')\n",
    "\n",
    "# Compute value of Test Statistic (TS)\n",
    "f_stat = var_conventional / var_organic\n",
    "\n",
    "# Compute P(F<f)\n",
    "p_value = f.cdf(f_stat, n_conventional-1, n_organic-1)\n",
    "\n",
    "# Compute p-value = 2 * min{P(F<f), 1-P(F<f)) with n-1, m-1 degrees of freedom\n",
    "p_value = 2 * min(p_value, 1 - p_value)\n",
    "\n",
    "# Level of significance\n",
    "alpha = 0.05\n",
    "\n",
    "print(f'F-statistic: {f_stat}')\n",
    "print(f'P-value: {p_value}')\n",
    "\n",
    "# Interpret the results\n",
    "if p_value < alpha:\n",
    "    print(\"Reject the null hypothesis. There is a significant difference in variances between conventional and organic avocados in 2017.\")\n",
    "else:\n",
    "    print(\"Do not reject the null hypothesis. There is no significant difference in variances between conventional and organic avocados in 2017.\")\n"
   ]
  },
  {
   "cell_type": "markdown",
   "id": "38e422d2-d0a8-4784-b9eb-1d9333ef1f8e",
   "metadata": {},
   "source": [
    "### Hence the variance of two types of Avocado are also not same in the  year 2017. \n",
    "Year 2017 was not so predictable for the price of Avocado"
   ]
  },
  {
   "cell_type": "markdown",
   "id": "26126818-a7a6-4bfc-98d9-dcea4ac3be62",
   "metadata": {},
   "source": [
    "## One sample test on proportion : Z-test"
   ]
  },
  {
   "cell_type": "markdown",
   "id": "30ad100a-e5ef-4fde-b5cb-fa53b7d016ae",
   "metadata": {},
   "source": [
    "#### Null Hypothesis (H₀): \n",
    "    The proportion of conventional avocados with prices above $1.50 is less than or equal to 0.35.\n",
    "\n",
    "#### Alternative Hypothesis (H₁): \n",
    "    The proportion of conventional avocados with prices above $1.50 is greater than 0.35\n"
   ]
  },
  {
   "cell_type": "code",
   "execution_count": 58,
   "id": "6df0c3ec-bf07-4b98-8a9d-aa231b14b1a1",
   "metadata": {},
   "outputs": [
    {
     "name": "stdout",
     "output_type": "stream",
     "text": [
      "737 conventional avocados have prices above $1.50 out of 2862 conventional avocados in the dataset\n",
      "Estimated proportion: p_hat = 0.258\n"
     ]
    }
   ],
   "source": [
    "# Separate data for conventional avocados\n",
    "conventional_prices_2017 = avocado_2017[avocado_2017['type'] == 'conventional']\n",
    "\n",
    "# Calculate the proportion with average prices above $1.50\n",
    "threshold = 1.50\n",
    "p0 = 0.35  # hypothesized proportion\n",
    "a = 0.05  # level of significance\n",
    "\n",
    "# Number of conventional avocados in 2017\n",
    "n = len(conventional_prices_2017)\n",
    "\n",
    "# Number of conventional avocados with prices above $1.50\n",
    "k = (conventional_prices_2017['AveragePrice'] > threshold).sum()\n",
    "\n",
    "# Estimated proportion\n",
    "p_hat = k / n\n",
    "\n",
    "print(f'{k} conventional avocados have prices above $1.50 out of {n} conventional avocados in the dataset')\n",
    "print(f'Estimated proportion: p_hat = {p_hat:.3f}')"
   ]
  },
  {
   "cell_type": "code",
   "execution_count": 59,
   "id": "9d6356b1-2796-47ac-a622-b37a98788a1f",
   "metadata": {},
   "outputs": [
    {
     "name": "stdout",
     "output_type": "stream",
     "text": [
      "TS value     T = 0.2575122292103424\n",
      "p-value = 1.000\n",
      "sig. lev. alpha = 0.050\n",
      "Do not reject the null hypothesis at level of significance 0.05\n"
     ]
    }
   ],
   "source": [
    "# Perform the binomial test\n",
    "res = binomtest(k, n, p=p0, alternative='greater')\n",
    "\n",
    "print(f'TS value     T = {res.statistic}')\n",
    "print(f'p-value = {res.pvalue:.3f}')\n",
    "print(f'sig. lev. alpha = {a:.3f}')\n",
    "\n",
    "# Interpret the results\n",
    "if res.pvalue < a:\n",
    "    print(\"Reject the null hypothesis. The proportion of conventional avocados with prices above $1.50 is significantly greater than 0.35.\")\n",
    "else:\n",
    "    print(f'Do not reject the null hypothesis at level of significance {a}')"
   ]
  },
  {
   "cell_type": "markdown",
   "id": "324dca84-290a-446e-b7e8-27e3ef2321fe",
   "metadata": {},
   "source": [
    "### The proportion of conventional avocados with prices above $1.50 is not significantly greater than 0.35. \n"
   ]
  },
  {
   "cell_type": "markdown",
   "id": "34c326da-d833-46e4-b183-fb2752ba6378",
   "metadata": {},
   "source": [
    "### Two-Sample Proportion Test\n",
    "\n",
    "We will perform a two-sample test to determine if the proportion of conventional avocados with average prices above $1.50$ is significantly different from the proportion of organic avocados with average prices above $1.50$ in 2017.\n",
    "\n",
    "#### Null Hypothesis (H₀): \n",
    "    The proportions of conventional and organic avocados with prices above $1.50 are equal\n",
    "\n",
    "#### Alternative Hypothesis (H₁): \n",
    "    The proportions of conventional and organic avocados with prices above $1.50 are different.\n"
   ]
  },
  {
   "cell_type": "code",
   "execution_count": 60,
   "id": "868be257-e53e-4a2d-84c1-ad068f772db6",
   "metadata": {},
   "outputs": [
    {
     "name": "stdout",
     "output_type": "stream",
     "text": [
      "737 conventional avocados have prices above $1.50 out of 2862 conventional avocados in the dataset\n",
      "2027 organic avocados have prices above $1.50 out of 2860 organic avocados in the dataset\n",
      "Estimated proportion of conventional avocados: p_conventional = 0.258\n",
      "Estimated proportion of organic avocados: p_organic = 0.709\n"
     ]
    }
   ],
   "source": [
    "# Separate data for conventional and organic avocados\n",
    "conventional_prices_2017 = avocado_2017[avocado_2017['type'] == 'conventional']\n",
    "organic_prices_2017 = avocado_2017[avocado_2017['type'] == 'organic']\n",
    "\n",
    "# Calculate the proportions with average prices above $1.50\n",
    "threshold = 1.50\n",
    "\n",
    "# Number of conventional avocados in 2017\n",
    "n_conventional = len(conventional_prices_2017)\n",
    "\n",
    "# Number of organic avocados in 2017\n",
    "n_organic = len(organic_prices_2017)\n",
    "\n",
    "# Number of conventional avocados with prices above $1.50\n",
    "k_conventional = (conventional_prices_2017['AveragePrice'] > threshold).sum()\n",
    "\n",
    "# Number of organic avocados with prices above $1.50\n",
    "k_organic = (organic_prices_2017['AveragePrice'] > threshold).sum()\n",
    "\n",
    "# Estimated proportions\n",
    "p_conventional = k_conventional / n_conventional\n",
    "p_organic = k_organic / n_organic\n",
    "\n",
    "print(f'{k_conventional} conventional avocados have prices above $1.50 out of {n_conventional} conventional avocados in the dataset')\n",
    "print(f'{k_organic} organic avocados have prices above $1.50 out of {n_organic} organic avocados in the dataset')\n",
    "print(f'Estimated proportion of conventional avocados: p_conventional = {p_conventional:.3f}')\n",
    "print(f'Estimated proportion of organic avocados: p_organic = {p_organic:.3f}')\n"
   ]
  },
  {
   "cell_type": "code",
   "execution_count": 61,
   "id": "e8d37cf6-c4b3-4f9a-9aa1-4a05d7bb8aa4",
   "metadata": {},
   "outputs": [
    {
     "name": "stdout",
     "output_type": "stream",
     "text": [
      "Z-statistic: -34.15235732969671\n",
      "P-value: 0.0\n",
      "Reject the null hypothesis. There is a significant difference between the proportions of conventional and organic avocados with prices above $1.50 in 2017.\n"
     ]
    }
   ],
   "source": [
    "# Combined proportion\n",
    "p_combined = (k_conventional + k_organic) / (n_conventional + n_organic)\n",
    "\n",
    "# Standard error\n",
    "standard_error = np.sqrt(p_combined * (1 - p_combined) * (1/n_conventional + 1/n_organic))\n",
    "\n",
    "# Z-test statistic\n",
    "z = (p_conventional - p_organic) / standard_error\n",
    "\n",
    "# P-value\n",
    "p_value = 2 * (1 - norm.cdf(np.abs(z)))\n",
    "\n",
    "print(f'Z-statistic: {z}')\n",
    "print(f'P-value: {p_value}')\n",
    "\n",
    "# Interpret the results\n",
    "alpha = 0.05\n",
    "if p_value < alpha:\n",
    "    print(\"Reject the null hypothesis. There is a significant difference between the proportions of conventional and organic avocados with prices above $1.50 in 2017.\")\n",
    "else:\n",
    "    print(\"Do not reject the null hypothesis. There is no significant difference between the proportions of conventional and organic avocados with prices above $1.50 in 2017.\")\n"
   ]
  },
  {
   "cell_type": "markdown",
   "id": "a170fe9f-22cc-4ba9-9a53-b1fe3d6a2e1b",
   "metadata": {},
   "source": [
    "#### We can also justify it from EDA that price of organic avocados are comparatively higher than conventional. Hence it makes sense that proportion of organic avocado above 1.50$ will be higher than organic"
   ]
  },
  {
   "cell_type": "markdown",
   "id": "93a103f5-0df2-4562-acf5-fb0b4747f7c0",
   "metadata": {},
   "source": [
    "#### Conclusion and Recommendations:\n",
    "\n",
    "Our playful exploration through hypothesis testing reveals potential cities where Millennials can fulfill the American dream without forgoing their beloved avocado toast. We've identified locations with significantly lower avocado prices, which could potentially make both lifestyle and homeownership more achievable.\n",
    "\n",
    "#### Recommendations for Millennials:\n",
    "\n",
    "**Prioritize cities with lower avocado prices**: Our findings suggest focusing on these areas could help balance avocado consumption with other financial goals like saving for a home.\n",
    "\n",
    "**Incorporate avocado expenses in budgeting**: Being aware of and managing avocado spending might provide more room for significant investments.\n",
    "\n",
    "#### Future Work:\n",
    "Further investigation is needed to robustly link avocado prices with actual home-buying capabilities in these identified cities, giving a more complete picture of Millennial economic challenges and opportunities."
   ]
  },
  {
   "cell_type": "code",
   "execution_count": null,
   "id": "8492e5a5-4dca-407f-a919-0392e60e0b95",
   "metadata": {},
   "outputs": [],
   "source": []
  }
 ],
 "metadata": {
  "kernelspec": {
   "display_name": "Python 3 (ipykernel)",
   "language": "python",
   "name": "python3"
  },
  "language_info": {
   "codemirror_mode": {
    "name": "ipython",
    "version": 3
   },
   "file_extension": ".py",
   "mimetype": "text/x-python",
   "name": "python",
   "nbconvert_exporter": "python",
   "pygments_lexer": "ipython3",
   "version": "3.10.9"
  }
 },
 "nbformat": 4,
 "nbformat_minor": 5
}
